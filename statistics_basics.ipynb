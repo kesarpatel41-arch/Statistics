{
  "nbformat": 4,
  "nbformat_minor": 0,
  "metadata": {
    "colab": {
      "provenance": []
    },
    "kernelspec": {
      "name": "python3",
      "display_name": "Python 3"
    },
    "language_info": {
      "name": "python"
    }
  },
  "cells": [
    {
      "cell_type": "markdown",
      "source": [
        "Statistics Basics"
      ],
      "metadata": {
        "id": "5RCCq8hAD2Q1"
      }
    },
    {
      "cell_type": "markdown",
      "source": [
        "1. What is the difference between descriptive statistics and inferential\n",
        "statistics? Explain with examples.\n",
        "   Answer = Descriptive Statistics and Inferential Statistics are two main branches of statistics used to analyze data, but they serve different purposes.\n",
        "\n",
        "1. Descriptive Statistics:\n",
        "\n",
        "Descriptive statistics summarize and describe the main features of a dataset. They help us understand what the data looks like without making conclusions beyond the data collected.\n",
        "\n",
        "Common descriptive measures include:\n",
        "\n",
        "Mean, Median, Mode (measures of central tendency)\n",
        "\n",
        "Range, Variance, Standard Deviation (measures of spread)\n",
        "\n",
        "Charts and Graphs: Histograms, Pie Charts, Boxplots\n",
        "\n",
        "Example:\n",
        "A teacher calculates the average score of students in a class test.\n",
        "If the mean score is 75, this describes the performance of that specific class.\n",
        "→ It does not make predictions about other classes.\n",
        "\n",
        "2. Inferential Statistics:\n",
        "\n",
        "Inferential statistics use data from a sample to make predictions, generalizations, or inferences about a larger population.\n",
        "They often involve probability theory, hypothesis testing, confidence intervals, and regression analysis.\n",
        "\n",
        "Example:\n",
        "A researcher surveys 100 customers from a mall to estimate the average spending of all customers in the city.\n",
        "Here, the researcher uses the sample data to infer characteristics of the entire population."
      ],
      "metadata": {
        "id": "v8kSpzWYd8FL"
      }
    },
    {
      "cell_type": "markdown",
      "source": [
        "2. What is sampling in statistics? Explain the differences between random\n",
        "and stratified sampling.\n",
        "ans- Sampling in statistics is the process of selecting a subset (sample) from a larger population to collect data and make inferences about the entire group.\n",
        "It is used because studying an entire population is often impractical, time-consuming, or costly.\n",
        "\n",
        "For example, instead of surveying all citizens in a country, a researcher might survey 1,000 people to estimate national opinions or trends.\n",
        "\n",
        "Types of Sampling:\n",
        "\n",
        "Two common sampling methods are Random Sampling and Stratified Sampling.\n",
        "\n",
        "1. Random Sampling:\n",
        "\n",
        "In random sampling, every member of the population has an equal chance of being selected.\n",
        "This method helps to eliminate bias and ensures the sample represents the population fairly.\n",
        "\n",
        "Example:\n",
        "Selecting 100 students randomly from a school of 1,000 students using a random number generator.\n",
        "\n",
        "Advantages:\n",
        "\n",
        "Simple and unbiased\n",
        "\n",
        "Easy to implement for small populations\n",
        "\n",
        "Disadvantages:\n",
        "\n",
        "May not represent all subgroups equally (e.g., gender, age, etc.)\n",
        "\n",
        "2. Stratified Sampling:\n",
        "\n",
        "In stratified sampling, the population is first divided into subgroups (strata) based on shared characteristics (e.g., age, gender, income).\n",
        "Then, a random sample is taken from each stratum in proportion to its size in the population.\n",
        "\n",
        "Example:\n",
        "If a school has 60% boys and 40% girls, you can divide them into two groups (strata) and then randomly select 60 boys and 40 girls from 100 total samples."
      ],
      "metadata": {
        "id": "vOuW6ZTaejpY"
      }
    },
    {
      "cell_type": "markdown",
      "source": [
        "3. Define mean, median, and mode. Explain why these measures of central\n",
        "tendency are important.\n",
        "ans- Mean, Median, and Mode are the three primary measures of central tendency in statistics.\n",
        "They describe the center or typical value of a dataset, helping us understand how data points are distributed.\n",
        "\n",
        "1. Mean (Arithmetic Average):\n",
        "\n",
        "The mean is calculated by adding up all the values in a dataset and dividing by the total number of values.\n",
        "\n",
        "Mean\n",
        "=\n",
        "Sum of all values\n",
        "Number of values\n",
        "Mean=\n",
        "Number of values\n",
        "Sum of all values\n",
        "\t​\n",
        "\n",
        "\n",
        "Example:\n",
        "For the data [5, 10, 15, 20, 25],\n",
        "Mean = (5 + 10 + 15 + 20 + 25) / 5 = 15\n",
        "\n",
        "Use:\n",
        "The mean provides an overall average, useful for comparing groups or tracking trends.\n",
        "\n",
        "2. Median:\n",
        "\n",
        "The median is the middle value of an ordered dataset.\n",
        "If there is an even number of observations, it is the average of the two middle values.\n",
        "\n",
        "Example:\n",
        "For [5, 10, 15, 20, 25], the median is 15.\n",
        "For [5, 10, 15, 20], the median = (10 + 15) / 2 = 12.5\n",
        "\n",
        "Use:\n",
        "The median is useful when data contains outliers (extremely high or low values) because it is not affected by them.\n",
        "\n",
        "3. Mode:\n",
        "\n",
        "The mode is the value that occurs most frequently in the dataset.\n",
        "A dataset can have one mode, more than one mode, or no mode at all.\n",
        "\n",
        "Example:\n",
        "For [2, 3, 3, 5, 7, 7, 7, 9], the mode = 7 (most frequent value).\n",
        "\n",
        "Use:\n",
        "Mode is especially useful for categorical data (e.g., finding the most common brand or product type).\n",
        "\n",
        "Importance of Measures of Central Tendency:\n",
        "\n",
        "They summarize large datasets with a single representative value.\n",
        "\n",
        "They help in comparing different groups or time periods.\n",
        "\n",
        "They provide the foundation for further statistical analysis such as variance, standard deviation, and hypothesis testing.\n",
        "\n",
        "They help identify the distribution pattern (normal, skewed, etc.) of data."
      ],
      "metadata": {
        "id": "omU-ia94fmvl"
      }
    },
    {
      "cell_type": "markdown",
      "source": [
        "4. Explain skewness and kurtosis. What does a positive skew imply about the\n",
        "data?\n",
        "ans- Skewness and Kurtosis are two important statistical measures that describe the shape and distribution of a dataset.\n",
        "They help us understand whether data is symmetrical, skewed, or peaked/flat compared to a normal distribution.\n",
        "\n",
        "1. Skewness:\n",
        "\n",
        "Skewness measures the asymmetry of a dataset’s distribution around its mean.\n",
        "\n",
        "If the distribution is symmetrical, skewness = 0\n",
        "\n",
        "If it’s asymmetrical, skewness can be positive or negative\n",
        "\n",
        "Types of Skewness:\n",
        "\n",
        "Positive Skew (Right-Skewed):\n",
        "\n",
        "The tail on the right side of the distribution is longer or fatter.\n",
        "\n",
        "Most data values are concentrated on the left, with a few larger values pulling the mean to the right.\n",
        "\n",
        "Mean > Median > Mode\n",
        "\n",
        "Example: Income distribution — most people earn moderate incomes, but a few earn extremely high salaries.\n",
        "\n",
        "Negative Skew (Left-Skewed):\n",
        "\n",
        "The tail on the left side is longer or fatter.\n",
        "\n",
        "Most data values are concentrated on the right.\n",
        "\n",
        "Mean < Median < Mode\n",
        "\n",
        "Example: Age at retirement — most people retire around a certain age, but a few retire very early.\n",
        "\n",
        "2. Kurtosis:\n",
        "\n",
        "Kurtosis measures the “tailedness” or peakedness of the data distribution — how heavy or light the tails are compared to a normal distribution.\n",
        "\n",
        "Types of Kurtosis:\n",
        "\n",
        "Mesokurtic (Kurtosis ≈ 3): Normal bell-shaped distribution\n",
        "\n",
        "Leptokurtic (Kurtosis > 3): Sharper peak and heavier tails — more extreme outliers\n",
        "\n",
        "Platykurtic (Kurtosis < 3): Flatter peak and lighter tails — fewer outliers\n",
        "\n",
        "What Does a Positive Skew Imply About the Data?\n",
        "\n",
        "A positive skew (right-skewed distribution) implies that:\n",
        "\n",
        "The majority of data values are smaller and lie on the left side of the mean.\n",
        "\n",
        "A few large values stretch the tail to the right.\n",
        "\n",
        "The mean is greater than the median.\n",
        "\n",
        "In simple terms:\n",
        "\n",
        "Positive skew = long right tail = few unusually high values."
      ],
      "metadata": {
        "id": "_4YeqFX8gDm8"
      }
    },
    {
      "cell_type": "code",
      "source": [
        "5.\n",
        "\"\"\"\n",
        "Implement a Python program to compute the mean, median, and mode of\n",
        "a given list of numbers.\n",
        "numbers = [12, 15, 12, 18, 19, 12, 20, 22, 19, 19, 24, 24, 24, 26, 28]\n",
        "(Include your Python code and output in the code box below.)\n",
        "\"\"\"\n",
        "# Program to compute Mean, Median, and Mode\n",
        "\n",
        "import statistics as stats\n",
        "\n",
        "# Given list of numbers\n",
        "numbers = [12, 15, 12, 18, 19, 12, 20, 22, 19, 19, 24, 24, 24, 26, 28]\n",
        "\n",
        "# Calculate mean, median, and mode\n",
        "mean_value = stats.mean(numbers)\n",
        "median_value = stats.median(numbers)\n",
        "mode_value = stats.mode(numbers)\n",
        "\n",
        "# Display results\n",
        "print(\"Mean:\", mean_value)\n",
        "print(\"Median:\", median_value)\n",
        "print(\"Mode:\", mode_value)\n",
        "\n"
      ],
      "metadata": {
        "colab": {
          "base_uri": "https://localhost:8080/"
        },
        "id": "WXafEcFVoKEv",
        "outputId": "9efc846a-e817-498a-b84a-dfd0c8871947"
      },
      "execution_count": null,
      "outputs": [
        {
          "output_type": "stream",
          "name": "stdout",
          "text": [
            "Mean: 19.6\n",
            "Median: 19\n",
            "Mode: 12\n"
          ]
        }
      ]
    },
    {
      "cell_type": "code",
      "source": [
        "6.\n",
        "\"\"\"\n",
        "#Compute the covariance and correlation coefficient between the following\n",
        "two datasets provided as lists in Python:\n",
        "list_x = [10, 20, 30, 40, 50]\n",
        "list_y = [15, 25, 35, 45, 60]\n",
        "(Include your Python code and output in the code box below.)\n",
        "\"\"\"\n",
        "# Program to compute Covariance and Correlation Coefficient\n",
        "\n",
        "import numpy as np\n",
        "\n",
        "# Given data\n",
        "list_x = [10, 20, 30, 40, 50]\n",
        "list_y = [15, 25, 35, 45, 60]\n",
        "\n",
        "# Convert lists to NumPy arrays\n",
        "x = np.array(list_x)\n",
        "y = np.array(list_y)\n",
        "\n",
        "# Compute covariance matrix\n",
        "cov_matrix = np.cov(x, y, bias=False)\n",
        "\n",
        "# Extract covariance value\n",
        "covariance = cov_matrix[0, 1]\n",
        "\n",
        "# Compute correlation coefficient\n",
        "correlation = np.corrcoef(x, y)[0, 1]\n",
        "\n",
        "# Display results\n",
        "print(\"Covariance:\", covariance)\n",
        "print(\"Correlation Coefficient:\", correlation)"
      ],
      "metadata": {
        "colab": {
          "base_uri": "https://localhost:8080/"
        },
        "id": "AKoE3ylnmE9U",
        "outputId": "9fd6aa94-fc1b-4c34-ab9c-c9402fb1d7f8"
      },
      "execution_count": null,
      "outputs": [
        {
          "output_type": "stream",
          "name": "stdout",
          "text": [
            "Covariance: 275.0\n",
            "Correlation Coefficient: 0.995893206467704\n"
          ]
        }
      ]
    },
    {
      "cell_type": "code",
      "source": [
        "7.\n",
        "\"\"\"\n",
        "Write a Python script to draw a boxplot for the following numeric list and\n",
        "identify its outliers. Explain the result:\n",
        "data = [12, 14, 14, 15, 18, 19, 19, 21, 22, 22, 23, 23, 24, 26, 29, 35]\n",
        "(Include your Python code and output in the code box below.)\n",
        "\"\"\"\n",
        "# Program to draw a Boxplot and identify outliers\n",
        "\n",
        "import matplotlib.pyplot as plt\n",
        "import numpy as np\n",
        "\n",
        "# Given data\n",
        "data = [12, 14, 14, 15, 18, 19, 19, 21, 22, 22, 23, 23, 24, 26, 29, 35]\n",
        "\n",
        "# Create boxplot\n",
        "plt.boxplot(data, vert=False, patch_artist=True)\n",
        "plt.title(\"Boxplot of Given Data\")\n",
        "plt.xlabel(\"Values\")\n",
        "plt.show()\n",
        "\n",
        "# Calculate IQR (Interquartile Range) to identify outliers\n",
        "Q1 = np.percentile(data, 25)\n",
        "Q3 = np.percentile(data, 75)\n",
        "IQR = Q3 - Q1\n",
        "\n",
        "# Define outlier boundaries\n",
        "lower_bound = Q1 - 1.5 * IQR\n",
        "upper_bound = Q3 + 1.5 * IQR\n",
        "\n",
        "# Find outliers\n",
        "outliers = [x for x in data if x < lower_bound or x > upper_bound]\n",
        "\n",
        "print(\"Q1:\", Q1)\n",
        "print(\"Q3:\", Q3)\n",
        "print(\"IQR:\", IQR)\n",
        "print(\"Outliers:\", outliers)"
      ],
      "metadata": {
        "colab": {
          "base_uri": "https://localhost:8080/",
          "height": 541
        },
        "id": "zJN2_MVHqtnP",
        "outputId": "5587af17-4b20-47e4-deaa-8265ec786a72"
      },
      "execution_count": null,
      "outputs": [
        {
          "output_type": "display_data",
          "data": {
            "text/plain": [
              "<Figure size 640x480 with 1 Axes>"
            ],
            "image/png": "[encoded data removed]"
          },
          "metadata": {}
        },
        {
          "output_type": "stream",
          "name": "stdout",
          "text": [
            "Q1: 17.25\n",
            "Q3: 23.25\n",
            "IQR: 6.0\n",
            "Outliers: [35]\n"
          ]
        }
      ]
    },
    {
      "cell_type": "code",
      "source": [
        "8.\n",
        "\"\"\"\n",
        "You are working as a data analyst in an e-commerce company. The\n",
        "marketing team wants to know if there is a relationship between advertising spend and\n",
        "daily sales.\n",
        "● Explain how you would use covariance and correlation to explore this\n",
        "relationship.\n",
        "● Write Python code to compute the correlation between the two lists:\n",
        "advertising_spend = [200, 250, 300, 400, 500]\n",
        "daily_sales = [2200, 2450, 2750, 3200, 4000]\n",
        "(Include your Python code and output in the code box below.)\n",
        "\"\"\"\n",
        "\"\"\"\n",
        "Explanation:\n",
        "\n",
        "To explore the relationship between advertising spend and daily sales, we can use two key statistical tools:\n",
        "\n",
        "Covariance:\n",
        "\n",
        "Measures whether two variables move together (positive covariance) or in opposite directions (negative covariance).\n",
        "\n",
        "However, it doesn’t show how strongly they are related or on what scale.\n",
        "\n",
        "Interpretation:\n",
        "\n",
        "Positive covariance → as advertising spend increases, daily sales tend to increase.\n",
        "\n",
        "Negative covariance → as advertising spend increases, daily sales tend to decrease.\n",
        "\n",
        "Correlation Coefficient:\n",
        "\n",
        "Standardized measure of the strength and direction of a relationship between two variables.\n",
        "\n",
        "Ranges from -1 to +1.\n",
        "\n",
        "+1 → perfect positive correlation\n",
        "\n",
        "-1 → perfect negative correlation\n",
        "\n",
        "0 → no linear relationship\n",
        "\"\"\"\n",
        "# Program to compute correlation between advertising spend and daily sales\n",
        "\n",
        "import numpy as np\n",
        "\n",
        "# Given data\n",
        "advertising_spend = [200, 250, 300, 400, 500]\n",
        "daily_sales = [2200, 2450, 2750, 3200, 4000]\n",
        "\n",
        "# Convert to NumPy arrays\n",
        "x = np.array(advertising_spend)\n",
        "y = np.array(daily_sales)\n",
        "\n",
        "# Compute covariance matrix\n",
        "cov_matrix = np.cov(x, y, bias=False)\n",
        "covariance = cov_matrix[0, 1]\n",
        "\n",
        "# Compute correlation coefficient\n",
        "correlation = np.corrcoef(x, y)[0, 1]\n",
        "\n",
        "# Display results\n",
        "print(\"Covariance:\", covariance)\n",
        "print(\"Correlation Coefficient:\", correlation)\n"
      ],
      "metadata": {
        "colab": {
          "base_uri": "https://localhost:8080/"
        },
        "id": "ySsknKKjrWA2",
        "outputId": "b946e691-da0f-4c24-cb66-0ab9a31074f9"
      },
      "execution_count": null,
      "outputs": [
        {
          "output_type": "stream",
          "name": "stdout",
          "text": [
            "Covariance: 84875.0\n",
            "Correlation Coefficient: 0.9935824101653329\n"
          ]
        }
      ]
    },
    {
      "cell_type": "code",
      "source": [
        "9.\n",
        "\"\"\"\n",
        "Your team has collected customer satisfaction survey data on a scale of\n",
        "1-10 and wants to understand its distribution before launching a new product.\n",
        "● Explain which summary statistics and visualizations (e.g. mean, standard\n",
        "deviation, histogram) you’d use.\n",
        "● Write Python code to create a histogram using Matplotlib for the survey data:\n",
        "survey_scores = [7, 8, 5, 9, 6, 7, 8, 9, 10, 4, 7, 6, 9, 8, 7]\n",
        "(Include your Python code and output in the code box below.)\n",
        "\"\"\"\n",
        "\"\"\"\n",
        "Explanation:\n",
        "\n",
        "To understand the distribution of customer satisfaction scores, we can use summary statistics and visualizations that describe the central tendency, variability, and shape of the data.\n",
        "\n",
        "1. Summary Statistics:\n",
        "\n",
        "These give numerical insights into the data:\n",
        "\n",
        "Mean: Shows the average satisfaction score.\n",
        "\n",
        "Median: Indicates the middle score, useful if data is skewed.\n",
        "\n",
        "Mode: Reveals the most common satisfaction level among customers.\n",
        "\n",
        "Standard Deviation: Measures how much scores vary from the mean.\n",
        "\n",
        "A low standard deviation → responses are consistent.\n",
        "\n",
        "A high standard deviation → responses are spread out.\n",
        "\n",
        "These help management understand the overall satisfaction and consistency of customer opinions.\n",
        "\n",
        "2. Visualization:\n",
        "\n",
        "A Histogram is the best visualization for understanding data distribution.\n",
        "It shows how frequently each satisfaction score (1–10) occurs, helping identify whether responses are centered, skewed, or uniformly spread.\n",
        "\"\"\"\n",
        "# Program to analyze and visualize customer satisfaction survey data\n",
        "\n",
        "import matplotlib.pyplot as plt\n",
        "import numpy as np\n",
        "import statistics as stats\n",
        "\n",
        "# Given data\n",
        "survey_scores = [7, 8, 5, 9, 6, 7, 8, 9, 10, 4, 7, 6, 9, 8, 7]\n",
        "\n",
        "# Compute summary statistics\n",
        "mean_score = stats.mean(survey_scores)\n",
        "median_score = stats.median(survey_scores)\n",
        "mode_score = stats.mode(survey_scores)\n",
        "std_dev = np.std(survey_scores)\n",
        "\n",
        "print(\"Mean:\", mean_score)\n",
        "print(\"Median:\", median_score)\n",
        "print(\"Mode:\", mode_score)\n",
        "print(\"Standard Deviation:\", std_dev)\n",
        "\n",
        "# Create histogram\n",
        "plt.hist(survey_scores, bins=6, color='skyblue', edgecolor='black')\n",
        "plt.title(\"Histogram of Customer Satisfaction Scores\")\n",
        "plt.xlabel(\"Satisfaction Score (1-10)\")\n",
        "plt.ylabel(\"Frequency\")\n",
        "plt.grid(axis='y', linestyle='--', alpha=0.7)\n",
        "plt.show()"
      ],
      "metadata": {
        "id": "LwdSbF9pEAjU",
        "colab": {
          "base_uri": "https://localhost:8080/",
          "height": 541
        },
        "outputId": "7d88f888-874a-4e9c-b0b1-16e8131db7a1"
      },
      "execution_count": null,
      "outputs": [
        {
          "output_type": "stream",
          "name": "stdout",
          "text": [
            "Mean: 7.333333333333333\n",
            "Median: 7\n",
            "Mode: 7\n",
            "Standard Deviation: 1.577621275493231\n"
          ]
        },
        {
          "output_type": "display_data",
          "data": {
            "text/plain": [
              "<Figure size 640x480 with 1 Axes>"
            ],
            "image/png": "[encoded data removed]"
          },
          "metadata": {}
        }
      ]
    }
  ]
}